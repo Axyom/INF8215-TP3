{
 "cells": [
  {
   "cell_type": "code",
   "execution_count": 1,
   "metadata": {},
   "outputs": [
    {
     "data": {
      "text/html": [
       "<div>\n",
       "<style scoped>\n",
       "    .dataframe tbody tr th:only-of-type {\n",
       "        vertical-align: middle;\n",
       "    }\n",
       "\n",
       "    .dataframe tbody tr th {\n",
       "        vertical-align: top;\n",
       "    }\n",
       "\n",
       "    .dataframe thead th {\n",
       "        text-align: right;\n",
       "    }\n",
       "</style>\n",
       "<table border=\"1\" class=\"dataframe\">\n",
       "  <thead>\n",
       "    <tr style=\"text-align: right;\">\n",
       "      <th></th>\n",
       "      <th>Name</th>\n",
       "      <th>DateTime</th>\n",
       "      <th>AnimalType</th>\n",
       "      <th>SexuponOutcome</th>\n",
       "      <th>AgeuponOutcome</th>\n",
       "      <th>Breed</th>\n",
       "      <th>Color</th>\n",
       "    </tr>\n",
       "  </thead>\n",
       "  <tbody>\n",
       "    <tr>\n",
       "      <th>0</th>\n",
       "      <td>Hambone</td>\n",
       "      <td>2014-02-12 18:22:00</td>\n",
       "      <td>Dog</td>\n",
       "      <td>Neutered Male</td>\n",
       "      <td>1 year</td>\n",
       "      <td>Shetland Sheepdog Mix</td>\n",
       "      <td>Brown/White</td>\n",
       "    </tr>\n",
       "    <tr>\n",
       "      <th>1</th>\n",
       "      <td>Emily</td>\n",
       "      <td>2013-10-13 12:44:00</td>\n",
       "      <td>Cat</td>\n",
       "      <td>Spayed Female</td>\n",
       "      <td>1 year</td>\n",
       "      <td>Domestic Shorthair Mix</td>\n",
       "      <td>Cream Tabby</td>\n",
       "    </tr>\n",
       "    <tr>\n",
       "      <th>2</th>\n",
       "      <td>Pearce</td>\n",
       "      <td>2015-01-31 12:28:00</td>\n",
       "      <td>Dog</td>\n",
       "      <td>Neutered Male</td>\n",
       "      <td>2 years</td>\n",
       "      <td>Pit Bull Mix</td>\n",
       "      <td>Blue/White</td>\n",
       "    </tr>\n",
       "    <tr>\n",
       "      <th>3</th>\n",
       "      <td>NaN</td>\n",
       "      <td>2014-07-11 19:09:00</td>\n",
       "      <td>Cat</td>\n",
       "      <td>Intact Male</td>\n",
       "      <td>3 weeks</td>\n",
       "      <td>Domestic Shorthair Mix</td>\n",
       "      <td>Blue Cream</td>\n",
       "    </tr>\n",
       "    <tr>\n",
       "      <th>4</th>\n",
       "      <td>NaN</td>\n",
       "      <td>2013-11-15 12:52:00</td>\n",
       "      <td>Dog</td>\n",
       "      <td>Neutered Male</td>\n",
       "      <td>2 years</td>\n",
       "      <td>Lhasa Apso/Miniature Poodle</td>\n",
       "      <td>Tan</td>\n",
       "    </tr>\n",
       "  </tbody>\n",
       "</table>\n",
       "</div>"
      ],
      "text/plain": [
       "      Name             DateTime AnimalType SexuponOutcome AgeuponOutcome  \\\n",
       "0  Hambone  2014-02-12 18:22:00        Dog  Neutered Male         1 year   \n",
       "1    Emily  2013-10-13 12:44:00        Cat  Spayed Female         1 year   \n",
       "2   Pearce  2015-01-31 12:28:00        Dog  Neutered Male        2 years   \n",
       "3      NaN  2014-07-11 19:09:00        Cat    Intact Male        3 weeks   \n",
       "4      NaN  2013-11-15 12:52:00        Dog  Neutered Male        2 years   \n",
       "\n",
       "                         Breed        Color  \n",
       "0        Shetland Sheepdog Mix  Brown/White  \n",
       "1       Domestic Shorthair Mix  Cream Tabby  \n",
       "2                 Pit Bull Mix   Blue/White  \n",
       "3       Domestic Shorthair Mix   Blue Cream  \n",
       "4  Lhasa Apso/Miniature Poodle          Tan  "
      ]
     },
     "execution_count": 1,
     "metadata": {},
     "output_type": "execute_result"
    }
   ],
   "source": [
    "import pandas as pd\n",
    "\n",
    "PATH = \"data/\"\n",
    "X_train = pd.read_csv(PATH + \"train.csv\")\n",
    "X_test = pd.read_csv(PATH + \"test.csv\")\n",
    "\n",
    "X_train = X_train.drop(columns = [\"OutcomeSubtype\",\"AnimalID\"])\n",
    "X_test = X_test.drop(columns = [\"ID\"])\n",
    "\n",
    "X_train, y_train = X_train.drop(columns = [\"OutcomeType\"]),X_train[\"OutcomeType\"]\n",
    "\n",
    "X_train.head()"
   ]
  },
  {
   "cell_type": "code",
   "execution_count": 2,
   "metadata": {},
   "outputs": [
    {
     "ename": "ModuleNotFoundError",
     "evalue": "No module named 'sklearn.impute'",
     "output_type": "error",
     "traceback": [
      "\u001b[0;31m---------------------------------------------------------------------------\u001b[0m",
      "\u001b[0;31mModuleNotFoundError\u001b[0m                       Traceback (most recent call last)",
      "\u001b[0;32m<ipython-input-2-dfb3293b2a04>\u001b[0m in \u001b[0;36m<module>\u001b[0;34m()\u001b[0m\n\u001b[1;32m      1\u001b[0m \u001b[0;31m##Enlever les NAN\u001b[0m\u001b[0;34m\u001b[0m\u001b[0;34m\u001b[0m\u001b[0m\n\u001b[0;32m----> 2\u001b[0;31m \u001b[0;32mfrom\u001b[0m \u001b[0msklearn\u001b[0m\u001b[0;34m.\u001b[0m\u001b[0mimpute\u001b[0m \u001b[0;32mimport\u001b[0m \u001b[0mSimpleImputer\u001b[0m\u001b[0;34m\u001b[0m\u001b[0m\n\u001b[0m\u001b[1;32m      3\u001b[0m \u001b[0;34m\u001b[0m\u001b[0m\n\u001b[1;32m      4\u001b[0m \u001b[0;31m# Imputers initialisation\u001b[0m\u001b[0;34m\u001b[0m\u001b[0;34m\u001b[0m\u001b[0m\n\u001b[1;32m      5\u001b[0m \u001b[0mName_imputer\u001b[0m \u001b[0;34m=\u001b[0m \u001b[0mSimpleImputer\u001b[0m\u001b[0;34m(\u001b[0m\u001b[0mstrategy\u001b[0m \u001b[0;34m=\u001b[0m \u001b[0;34m'constant'\u001b[0m\u001b[0;34m,\u001b[0m \u001b[0mfill_value\u001b[0m \u001b[0;34m=\u001b[0m \u001b[0;34m'Bella'\u001b[0m\u001b[0;34m)\u001b[0m\u001b[0;34m\u001b[0m\u001b[0m\n",
      "\u001b[0;31mModuleNotFoundError\u001b[0m: No module named 'sklearn.impute'"
     ]
    }
   ],
   "source": [
    "##Enlever les NAN\n",
    "from sklearn.impute import SimpleImputer\n",
    "\n",
    "# Imputers initialisation\n",
    "Name_imputer = SimpleImputer(strategy = 'constant', fill_value = 'Bella')\n",
    "Date_imputer = SimpleImputer(strategy = 'constant', fill_value = 'Dog')\n",
    "Animal_imputer = SimpleImputer(strategy = 'constant', fill_value = 'Dog')\n",
    "Sex_imputer = SimpleImputer(strategy = 'constant', fill_value = 'Neutered Male')\n",
    "Age_imputer = SimpleImputer(strategy = 'constant', fill_value = '2 years')\n",
    "Breed_imputer = SimpleImputer(strategy = 'constant', fill_value = 'Domestic Shorthair Mix')\n",
    "Color_imputer = SimpleImputer(strategy = 'constant', fill_value = 'Black/White')"
   ]
  },
  {
   "cell_type": "code",
   "execution_count": null,
   "metadata": {},
   "outputs": [],
   "source": [
    "#Train set\n",
    "X_train[\"Name\"] = Name_imputer.fit_transform(X_train[\"Name\"].values.reshape(-1,1))\n",
    "X_train[\"DateTime\"] = Date_imputer.fit_transform(X_train[\"DateTime\"].values.reshape(-1,1))\n",
    "X_train[\"AnimalType\"] = Animal_imputer.fit_transform(X_train[\"AnimalType\"].values.reshape(-1,1))\n",
    "X_train[\"SexuponOutcome\"] = Sex_imputer.fit_transform(X_train[\"SexuponOutcome\"].values.reshape(-1,1))\n",
    "X_train[\"AgeuponOutcome\"] = Age_imputer.fit_transform(X_train[\"AgeuponOutcome\"].values.reshape(-1,1))\n",
    "X_train[\"Breed\"] = Breed_imputer.fit_transform(X_train[\"Breed\"].values.reshape(-1,1))\n",
    "X_train[\"Color\"] = Color_imputer.fit_transform(X_train[\"Color\"].values.reshape(-1,1))"
   ]
  },
  {
   "cell_type": "code",
   "execution_count": null,
   "metadata": {},
   "outputs": [],
   "source": [
    "#Test set\n",
    "X_test[\"Name\"] = Name_imputer.fit_transform(X_test[\"Name\"].values.reshape(-1,1))\n",
    "X_test[\"DateTime\"] = Date_imputer.fit_transform(X_test[\"DateTime\"].values.reshape(-1,1))\n",
    "X_test[\"AnimalType\"] = Animal_imputer.fit_transform(X_test[\"AnimalType\"].values.reshape(-1,1))\n",
    "X_test[\"SexuponOutcome\"] = Sex_imputer.fit_transform(X_test[\"SexuponOutcome\"].values.reshape(-1,1))\n",
    "X_test[\"AgeuponOutcome\"] = Age_imputer.fit_transform(X_test[\"AgeuponOutcome\"].values.reshape(-1,1))\n",
    "X_test[\"Breed\"] = Breed_imputer.fit_transform(X_test[\"Breed\"].values.reshape(-1,1))\n",
    "X_test[\"Color\"] = Color_imputer.fit_transform(X_test[\"Color\"].values.reshape(-1,1))"
   ]
  },
  {
   "cell_type": "code",
   "execution_count": null,
   "metadata": {},
   "outputs": [],
   "source": [
    "X_train.head()"
   ]
  },
  {
   "cell_type": "code",
   "execution_count": 8,
   "metadata": {
    "scrolled": false
   },
   "outputs": [
    {
     "data": {
      "text/plain": [
       "Domestic Shorthair Mix                     0.329605\n",
       "Pit Bull Mix                               0.071308\n",
       "Chihuahua Shorthair Mix                    0.066071\n",
       "Labrador Retriever Mix                     0.050993\n",
       "Domestic Medium Hair Mix                   0.031389\n",
       "German Shepherd Mix                        0.021512\n",
       "Domestic Longhair Mix                      0.019455\n",
       "Siamese Mix                                0.014553\n",
       "Australian Cattle Dog Mix                  0.013730\n",
       "Dachshund Mix                              0.011897\n",
       "Boxer Mix                                  0.009166\n",
       "Miniature Poodle Mix                       0.008717\n",
       "Border Collie Mix                          0.008567\n",
       "Australian Shepherd Mix                    0.006098\n",
       "Catahoula Mix                              0.005874\n",
       "Rat Terrier Mix                            0.005874\n",
       "Jack Russell Terrier Mix                   0.005462\n",
       "Yorkshire Terrier Mix                      0.005350\n",
       "Domestic Shorthair                         0.005350\n",
       "Chihuahua Longhair Mix                     0.005313\n",
       "Siberian Husky Mix                         0.005163\n",
       "Miniature Schnauzer Mix                    0.005088\n",
       "Beagle Mix                                 0.004639\n",
       "Rottweiler Mix                             0.004228\n",
       "American Bulldog Mix                       0.004078\n",
       "Cairn Terrier Mix                          0.003816\n",
       "Shih Tzu Mix                               0.003741\n",
       "Chihuahua Shorthair/Dachshund              0.003666\n",
       "Australian Kelpie Mix                      0.003554\n",
       "Staffordshire Mix                          0.003517\n",
       "                                             ...   \n",
       "Labrador Retriever/Mastiff                 0.000037\n",
       "Whippet/Whippet                            0.000037\n",
       "Domestic Shorthair/Domestic Medium Hair    0.000037\n",
       "Pharaoh Hound/Australian Cattle Dog        0.000037\n",
       "Dachshund Longhair/Pomeranian              0.000037\n",
       "Boxer/Bulldog                              0.000037\n",
       "Papillon                                   0.000037\n",
       "Pharaoh Hound/Border Collie                0.000037\n",
       "Dachshund/Basset Hound                     0.000037\n",
       "Cairn Terrier/Chihuahua Longhair           0.000037\n",
       "Siberian Husky/Catahoula                   0.000037\n",
       "German Shepherd/Swedish Vallhund           0.000037\n",
       "Boston Terrier/Pug                         0.000037\n",
       "Kuvasz/Labrador Retriever                  0.000037\n",
       "Mexican Hairless Mix                       0.000037\n",
       "St. Bernard Rough Coat/Border Collie       0.000037\n",
       "Dachshund/Shetland Sheepdog                0.000037\n",
       "Standard Poodle/Whippet                    0.000037\n",
       "Rat Terrier/Chihuahua Longhair             0.000037\n",
       "Bullmastiff/Boxer                          0.000037\n",
       "Chihuahua Shorthair/Boxer                  0.000037\n",
       "Pit Bull/Queensland Heeler                 0.000037\n",
       "Lhasa Apso/Havanese                        0.000037\n",
       "Miniature Pinscher/Pomeranian              0.000037\n",
       "Anatol Shepherd/German Shepherd            0.000037\n",
       "American Pit Bull Terrier/Pointer          0.000037\n",
       "Beagle/Whippet                             0.000037\n",
       "Pointer/Queensland Heeler                  0.000037\n",
       "English Bulldog/Boxer                      0.000037\n",
       "Catahoula/American Bulldog                 0.000037\n",
       "Name: Breed, Length: 1380, dtype: float64"
      ]
     },
     "execution_count": 8,
     "metadata": {},
     "output_type": "execute_result"
    }
   ],
   "source": [
    "(X_train[\"Breed\"].value_counts()/len(X_train))"
   ]
  },
  {
   "cell_type": "code",
   "execution_count": 3,
   "metadata": {},
   "outputs": [
    {
     "data": {
      "text/plain": [
       "1 year      0.148490\n",
       "2 years     0.139998\n",
       "2 months    0.127090\n",
       "3 years     0.068203\n",
       "1 month     0.047925\n",
       "3 months    0.047776\n",
       "4 years     0.040069\n",
       "5 years     0.037113\n",
       "4 months    0.033222\n",
       "6 years     0.025066\n",
       "Name: AgeuponOutcome, dtype: float64"
      ]
     },
     "execution_count": 3,
     "metadata": {},
     "output_type": "execute_result"
    }
   ],
   "source": [
    "#One hot ANimal Type\n",
    "from sklearn.preprocessing import OneHotEncoder\n",
    "\n",
    "# encoder initialisation\n",
    "animalType_encoder = OneHotEncoder(categories = 'auto', sparse = False)\n",
    "\n",
    "#Train set\n",
    "new_columns_train = animalType_encoder.fit_transform(X_train[\"AnimalType\"].values.reshape(-1,1))\n",
    "X_train = X_train.drop(columns=[\"AnimalType\"])\n",
    "X_train = pd.concat([X_train,pd.DataFrame(new_columns_train)], axis = 1)\n",
    "\n",
    "\n",
    "#Test set\n",
    "new_columns_test = categorical_encoder.transform(toy_test[\"categorical\"].values.reshape(-1,1))\n",
    "\n",
    "X_test = X_test.drop(columns=[\"AnimalType\"])\n",
    "X_test = pd.concat([X_test,pd.DataFrame(new_columns_test)], axis = 1)"
   ]
  },
  {
   "cell_type": "code",
   "execution_count": 4,
   "metadata": {},
   "outputs": [
    {
     "data": {
      "text/plain": [
       "Neutered Male    0.365857\n",
       "Spayed Female    0.329979\n",
       "Intact Male      0.131879\n",
       "Intact Female    0.131355\n",
       "Unknown          0.040892\n",
       "Name: SexuponOutcome, dtype: float64"
      ]
     },
     "execution_count": 4,
     "metadata": {},
     "output_type": "execute_result"
    }
   ],
   "source": [
    "(X_train[\"SexuponOutcome\"].value_counts()/len(X_train))[:10]"
   ]
  },
  {
   "cell_type": "code",
   "execution_count": null,
   "metadata": {},
   "outputs": [],
   "source": [
    "## SEPARER SEXUPONOUTCOME EN DEUX COLONNES 1- sex 2-neuteref or not\n"
   ]
  }
 ],
 "metadata": {
  "kernelspec": {
   "display_name": "Python 3",
   "language": "python",
   "name": "python3"
  },
  "language_info": {
   "codemirror_mode": {
    "name": "ipython",
    "version": 3
   },
   "file_extension": ".py",
   "mimetype": "text/x-python",
   "name": "python",
   "nbconvert_exporter": "python",
   "pygments_lexer": "ipython3",
   "version": "3.7.0"
  }
 },
 "nbformat": 4,
 "nbformat_minor": 2
}
